{
 "cells": [
  {
   "cell_type": "markdown",
   "id": "35fe200f",
   "metadata": {},
   "source": []
  },
  {
   "cell_type": "code",
   "execution_count": 1,
   "id": "7d331e30",
   "metadata": {},
   "outputs": [],
   "source": [
    "import os\n",
    "import shutil\n",
    "from sklearn.model_selection import train_test_split\n",
    "import tensorflow as tf\n",
    "from tensorflow.keras.preprocessing.image import ImageDataGenerator\n",
    "from tensorflow.keras.models import Sequential\n",
    "from tensorflow.keras.layers import Conv2D, MaxPooling2D, Flatten, Dense, Dropout\n",
    "from sklearn.metrics import classification_report, roc_auc_score, roc_curve, confusion_matrix\n",
    "import matplotlib.pyplot as plt\n",
    "\n"
   ]
  },
  {
   "cell_type": "code",
   "execution_count": 4,
   "id": "81141291",
   "metadata": {},
   "outputs": [],
   "source": [
    "# Define paths\n",
    "base_dir = \"E:\\dkd\\project\\giemsa\"\n",
    "positive_dir = os.path.join(base_dir, 'positive')\n",
    "negative_dir = os.path.join(base_dir, 'negative')\n"
   ]
  },
  {
   "cell_type": "code",
   "execution_count": 5,
   "id": "d236f28a",
   "metadata": {},
   "outputs": [],
   "source": [
    "# List all files\n",
    "positive_files = [os.path.join(positive_dir, f) for f in os.listdir(positive_dir) if os.path.isfile(os.path.join(positive_dir, f))]\n",
    "negative_files = [os.path.join(negative_dir, f) for f in os.listdir(negative_dir) if os.path.isfile(os.path.join(negative_dir, f))]\n"
   ]
  },
  {
   "cell_type": "code",
   "execution_count": 6,
   "id": "7293f8fe",
   "metadata": {},
   "outputs": [],
   "source": [
    "# Split the data\n",
    "train_pos, test_pos = train_test_split(positive_files, test_size=0.2, random_state=42)\n",
    "train_neg, test_neg = train_test_split(negative_files, test_size=0.2, random_state=42)\n"
   ]
  },
  {
   "cell_type": "code",
   "execution_count": 7,
   "id": "d35e29d8",
   "metadata": {},
   "outputs": [],
   "source": [
    "# Create directories for training and testing data\n",
    "train_dir = os.path.join(base_dir, 'train')\n",
    "test_dir = os.path.join(base_dir, 'test')\n"
   ]
  },
  {
   "cell_type": "code",
   "execution_count": 8,
   "id": "61315c19",
   "metadata": {},
   "outputs": [],
   "source": [
    "train_pos_dir = os.path.join(train_dir, 'positive')\n",
    "train_neg_dir = os.path.join(train_dir, 'negative')\n",
    "test_pos_dir = os.path.join(test_dir, 'positive')\n",
    "test_neg_dir = os.path.join(test_dir, 'negative')\n"
   ]
  },
  {
   "cell_type": "code",
   "execution_count": 9,
   "id": "4e7afa0f",
   "metadata": {},
   "outputs": [],
   "source": [
    "os.makedirs(train_pos_dir, exist_ok=True)\n",
    "os.makedirs(train_neg_dir, exist_ok=True)\n",
    "os.makedirs(test_pos_dir, exist_ok=True)\n",
    "os.makedirs(test_neg_dir, exist_ok=True)\n"
   ]
  },
  {
   "cell_type": "code",
   "execution_count": 10,
   "id": "7979cd70",
   "metadata": {},
   "outputs": [],
   "source": [
    "# Copy files to the respective directories\n",
    "for file in train_pos:\n",
    "    shutil.copy(file, train_pos_dir)\n",
    "for file in train_neg:\n",
    "    shutil.copy(file, train_neg_dir)\n",
    "for file in test_pos:\n",
    "    shutil.copy(file, test_pos_dir)\n",
    "for file in test_neg:\n",
    "    shutil.copy(file, test_neg_dir)\n"
   ]
  },
  {
   "cell_type": "markdown",
   "id": "4e387502",
   "metadata": {},
   "source": [
    "In machine learning and deep learning tasks involving image data, ImageDataGenerator is a utility in Keras (a popular deep learning library) that helps with real-time data augmentation and normalization during model training. Here's how it works in the context of your example:\n",
    "\n",
    "    Normalization (rescale=1./255):\n",
    "        This parameter scales the pixel values of images. Since RGB pixel values typically range from 0 to 255, dividing by 255 normalizes these values to the range [0, 1]. Normalization helps in faster convergence during training and often improves model performance."
   ]
  },
  {
   "cell_type": "code",
   "execution_count": 11,
   "id": "7b7d25d7",
   "metadata": {},
   "outputs": [],
   "source": [
    "# ImageDataGenerator for training and testing\n",
    "train_datagen = ImageDataGenerator(rescale=1./255)\n",
    "test_datagen = ImageDataGenerator(rescale=1./255)\n",
    "\n"
   ]
  },
  {
   "cell_type": "code",
   "execution_count": 12,
   "id": "e775423e",
   "metadata": {},
   "outputs": [
    {
     "name": "stdout",
     "output_type": "stream",
     "text": [
      "Found 26530 images belonging to 2 classes.\n"
     ]
    }
   ],
   "source": [
    "\n",
    "# Load train and test sets\n",
    "train_generator = train_datagen.flow_from_directory(\n",
    "    train_dir,\n",
    "    target_size=(150, 150),\n",
    "    batch_size=32,\n",
    "    class_mode='binary'\n",
    ")\n",
    "\n"
   ]
  },
  {
   "cell_type": "code",
   "execution_count": 13,
   "id": "49a53b6c",
   "metadata": {},
   "outputs": [
    {
     "name": "stdout",
     "output_type": "stream",
     "text": [
      "Found 6633 images belonging to 2 classes.\n"
     ]
    }
   ],
   "source": [
    "test_generator = test_datagen.flow_from_directory(\n",
    "    test_dir,\n",
    "    target_size=(150, 150),\n",
    "    batch_size=32,\n",
    "    class_mode='binary',\n",
    "    shuffle=False\n",
    ")\n"
   ]
  },
  {
   "cell_type": "code",
   "execution_count": 14,
   "id": "6da93f48",
   "metadata": {},
   "outputs": [],
   "source": [
    "# Build the model  1\n",
    "model = Sequential([\n",
    "    Conv2D(32, (3, 3), activation='relu', input_shape=(150, 150, 3)),\n",
    "    MaxPooling2D((2, 2)),\n",
    "    Conv2D(64, (3, 3), activation='relu'),\n",
    "    MaxPooling2D((2, 2)),\n",
    "    Conv2D(128, (3, 3), activation='relu'),\n",
    "    MaxPooling2D((2, 2)),\n",
    "    Flatten(),\n",
    "    Dense(512, activation='relu'),\n",
    "    Dropout(0.5),\n",
    "    Dense(1, activation='sigmoid')\n",
    "])\n"
   ]
  },
  {
   "cell_type": "code",
   "execution_count": 15,
   "id": "0a6e6fe1",
   "metadata": {},
   "outputs": [
    {
     "name": "stdout",
     "output_type": "stream",
     "text": [
      "Epoch 1/3\n",
      "830/830 [==============================] - 594s 715ms/step - loss: 0.3506 - accuracy: 0.8545 - val_loss: 0.2859 - val_accuracy: 0.8928\n",
      "Epoch 2/3\n",
      "830/830 [==============================] - 647s 780ms/step - loss: 0.2962 - accuracy: 0.8878 - val_loss: 0.2798 - val_accuracy: 0.8958\n",
      "Epoch 3/3\n",
      "830/830 [==============================] - 755s 910ms/step - loss: 0.2926 - accuracy: 0.8883 - val_loss: 0.2779 - val_accuracy: 0.8957\n"
     ]
    }
   ],
   "source": [
    "# Compile the model\n",
    "model.compile(optimizer='adam', loss='binary_crossentropy', metrics=['accuracy'])\n",
    "\n",
    "# Train the model\n",
    "history = model.fit(\n",
    "    train_generator,\n",
    "    epochs=3,\n",
    "    validation_data=test_generator\n",
    ")\n"
   ]
  },
  {
   "cell_type": "code",
   "execution_count": 16,
   "id": "f5182d7d",
   "metadata": {},
   "outputs": [
    {
     "name": "stdout",
     "output_type": "stream",
     "text": [
      "208/208 [==============================] - 43s 204ms/step\n"
     ]
    }
   ],
   "source": [
    "# Predict on the test set\n",
    "test_generator.reset()\n",
    "predictions = model.predict(test_generator)\n",
    "predictions = (predictions > 0.5).astype(int)\n",
    "\n"
   ]
  },
  {
   "cell_type": "code",
   "execution_count": 17,
   "id": "cbef99ca",
   "metadata": {},
   "outputs": [],
   "source": [
    "# True labels\n",
    "true_labels = test_generator.classes\n"
   ]
  },
  {
   "cell_type": "code",
   "execution_count": 18,
   "id": "e710aabb",
   "metadata": {},
   "outputs": [
    {
     "name": "stdout",
     "output_type": "stream",
     "text": [
      "              precision    recall  f1-score   support\n",
      "\n",
      "    negative       0.83      1.00      0.90      3303\n",
      "    positive       1.00      0.79      0.88      3330\n",
      "\n",
      "    accuracy                           0.90      6633\n",
      "   macro avg       0.91      0.90      0.89      6633\n",
      "weighted avg       0.91      0.90      0.89      6633\n",
      "\n"
     ]
    }
   ],
   "source": [
    "# Classification report\n",
    "report = classification_report(true_labels, predictions, target_names=['negative', 'positive'])\n",
    "print(report)\n"
   ]
  },
  {
   "cell_type": "code",
   "execution_count": 19,
   "id": "af43b5c8",
   "metadata": {},
   "outputs": [
    {
     "name": "stdout",
     "output_type": "stream",
     "text": [
      "[[3296    7]\n",
      " [ 685 2645]]\n"
     ]
    }
   ],
   "source": [
    "# Confusion matrix\n",
    "cm = confusion_matrix(true_labels, predictions)\n",
    "print(cm)\n"
   ]
  },
  {
   "cell_type": "code",
   "execution_count": 20,
   "id": "9dfcaaf2",
   "metadata": {},
   "outputs": [
    {
     "name": "stdout",
     "output_type": "stream",
     "text": [
      "Sensitivity: 0.7942942942942943\n",
      "Specificity: 0.9978807145019679\n"
     ]
    }
   ],
   "source": [
    "# Sensitivity and Specificity\n",
    "tn, fp, fn, tp = cm.ravel()\n",
    "sensitivity = tp / (tp + fn)\n",
    "specificity = tn / (tn + fp)\n",
    "print(f'Sensitivity: {sensitivity}')\n",
    "print(f'Specificity: {specificity}')\n"
   ]
  },
  {
   "cell_type": "code",
   "execution_count": 21,
   "id": "7d6b2b25",
   "metadata": {},
   "outputs": [
    {
     "name": "stdout",
     "output_type": "stream",
     "text": [
      "AUROC: 0.8960875043981311\n"
     ]
    }
   ],
   "source": [
    "# AUROC\n",
    "auc = roc_auc_score(true_labels, predictions)\n",
    "print(f'AUROC: {auc}')\n",
    "\n"
   ]
  },
  {
   "cell_type": "code",
   "execution_count": 22,
   "id": "404eb48e",
   "metadata": {},
   "outputs": [
    {
     "data": {
      "image/png": "[encoded data removed]",
      "text/plain": [
       "<Figure size 432x288 with 1 Axes>"
      ]
     },
     "metadata": {
      "needs_background": "light"
     },
     "output_type": "display_data"
    }
   ],
   "source": [
    "# ROC Curve\n",
    "fpr, tpr, thresholds = roc_curve(true_labels, predictions)\n",
    "plt.plot(fpr, tpr, marker='.')\n",
    "plt.xlabel('False Positive Rate')\n",
    "plt.ylabel('True Positive Rate')\n",
    "plt.title('ROC Curve')\n",
    "plt.show()\n"
   ]
  },
  {
   "cell_type": "code",
   "execution_count": 25,
   "id": "7be493e7",
   "metadata": {},
   "outputs": [
    {
     "name": "stdout",
     "output_type": "stream",
     "text": [
      "dict_keys(['loss', 'accuracy', 'val_loss', 'val_accuracy'])\n"
     ]
    }
   ],
   "source": [
    "print(history.history.keys())\n"
   ]
  },
  {
   "cell_type": "code",
   "execution_count": 26,
   "id": "9ae59e14",
   "metadata": {},
   "outputs": [
    {
     "data": {
      "image/png": "[encoded data removed]",
      "text/plain": [
       "<Figure size 432x288 with 1 Axes>"
      ]
     },
     "metadata": {
      "needs_background": "light"
     },
     "output_type": "display_data"
    }
   ],
   "source": [
    "import matplotlib.pyplot as plt\n",
    "%matplotlib inline\n",
    "# Model accuracy  plot\n",
    "plt.plot(history.history['accuracy'])\n",
    "plt.plot(history.history['val_accuracy'])\n",
    "plt.title('Model Accuracy')\n",
    "plt.ylabel('accuracy')\n",
    "plt.xlabel('epoch')\n",
    "plt.legend(['train', 'test'])\n",
    "plt.show()"
   ]
  },
  {
   "cell_type": "code",
   "execution_count": 27,
   "id": "84be59aa",
   "metadata": {},
   "outputs": [
    {
     "data": {
      "image/png": "[encoded data removed]",
      "text/plain": [
       "<Figure size 432x288 with 1 Axes>"
      ]
     },
     "metadata": {
      "needs_background": "light"
     },
     "output_type": "display_data"
    }
   ],
   "source": [
    "# Model Losss plot\n",
    "plt.plot(history.history['loss'])\n",
    "plt.plot(history.history['val_loss'])\n",
    "plt.title('Model Loss')\n",
    "plt.ylabel('loss')\n",
    "plt.xlabel('epoch')\n",
    "plt.legend(['train', 'test'])\n",
    "plt.show()"
   ]
  },
  {
   "cell_type": "code",
   "execution_count": 31,
   "id": "80d1a7a4",
   "metadata": {},
   "outputs": [],
   "source": [
    "# Increased Filters and Different Kernel Sizes  : model2\n",
    "from tensorflow.keras.models import Sequential\n",
    "from tensorflow.keras.layers import Conv2D, MaxPooling2D, Flatten, Dense, Dropout\n",
    "\n",
    "model1 = Sequential([\n",
    "    Conv2D(64, (5, 5), activation='relu', input_shape=(150, 150, 3)),\n",
    "    MaxPooling2D((2, 2)),\n",
    "    Conv2D(128, (5, 5), activation='relu'),\n",
    "    MaxPooling2D((2, 2)),\n",
    "    Conv2D(256, (3, 3), activation='relu'),\n",
    "    MaxPooling2D((2, 2)),\n",
    "    Flatten(),\n",
    "    Dense(512, activation='relu'),\n",
    "    Dropout(0.5),\n",
    "    Dense(1, activation='sigmoid')\n",
    "])\n",
    "\n",
    "model1.compile(optimizer='adam', loss='binary_crossentropy', metrics=['accuracy'])\n"
   ]
  },
  {
   "cell_type": "code",
   "execution_count": 32,
   "id": "d201eeda",
   "metadata": {},
   "outputs": [
    {
     "name": "stdout",
     "output_type": "stream",
     "text": [
      "Epoch 1/3\n",
      "830/830 [==============================] - 2675s 3s/step - loss: 0.3875 - accuracy: 0.8409 - val_loss: 0.2990 - val_accuracy: 0.8776\n",
      "Epoch 2/3\n",
      "830/830 [==============================] - 2653s 3s/step - loss: 0.2772 - accuracy: 0.8864 - val_loss: 0.1476 - val_accuracy: 0.9435\n",
      "Epoch 3/3\n",
      "830/830 [==============================] - 2627s 3s/step - loss: 0.1477 - accuracy: 0.9458 - val_loss: 0.2743 - val_accuracy: 0.8964\n"
     ]
    }
   ],
   "source": [
    "# Train model2\n",
    "history1 = model1.fit(train_generator, epochs=3, validation_data=test_generator)"
   ]
  },
  {
   "cell_type": "code",
   "execution_count": 35,
   "id": "d7d2f668",
   "metadata": {},
   "outputs": [
    {
     "name": "stdout",
     "output_type": "stream",
     "text": [
      "208/208 [==============================] - 127s 609ms/step\n",
      "              precision    recall  f1-score   support\n",
      "\n",
      "    negative       0.84      0.98      0.90      3303\n",
      "    positive       0.98      0.81      0.89      3330\n",
      "\n",
      "    accuracy                           0.90      6633\n",
      "   macro avg       0.91      0.90      0.90      6633\n",
      "weighted avg       0.91      0.90      0.90      6633\n",
      "\n"
     ]
    }
   ],
   "source": [
    "# Predict on the test set\n",
    "test_generator.reset()\n",
    "predictions1 = model1.predict(test_generator)\n",
    "predictions1 = (predictions1 > 0.5).astype(int)\n",
    "# True labels\n",
    "true_labels = test_generator.classes\n",
    "# Classification report\n",
    "report1 = classification_report(true_labels, predictions1, target_names=['negative', 'positive'])\n",
    "print(report1)\n"
   ]
  },
  {
   "cell_type": "code",
   "execution_count": 36,
   "id": "1988091b",
   "metadata": {},
   "outputs": [
    {
     "name": "stdout",
     "output_type": "stream",
     "text": [
      "[[3250   53]\n",
      " [ 634 2696]]\n",
      "Sensitivity: 0.8096096096096096\n",
      "Specificity: 0.9839539812291855\n",
      "AUROC: 0.8967817954193975\n"
     ]
    }
   ],
   "source": [
    "# Confusion matrix\n",
    "cm1 = confusion_matrix(true_labels, predictions1)\n",
    "print(cm1)\n",
    "\n",
    "# Sensitivity and Specificity\n",
    "tn, fp, fn, tp = cm1.ravel()\n",
    "sensitivity1 = tp / (tp + fn)\n",
    "specificity1 = tn / (tn + fp)\n",
    "print(f'Sensitivity: {sensitivity1}')\n",
    "print(f'Specificity: {specificity1}')\n",
    "# AUROC\n",
    "auc1 = roc_auc_score(true_labels, predictions1)\n",
    "print(f'AUROC: {auc1}')\n"
   ]
  },
  {
   "cell_type": "code",
   "execution_count": 37,
   "id": "f123a6fd",
   "metadata": {},
   "outputs": [],
   "source": [
    "#Model 3\n",
    "model2 = Sequential([\n",
    "    Conv2D(32, (3, 3), activation='relu', input_shape=(150, 150, 3)),\n",
    "    MaxPooling2D((2, 2)),\n",
    "    Conv2D(64, (3, 3), activation='relu'),\n",
    "    MaxPooling2D((2, 2)),\n",
    "    Conv2D(128, (3, 3), activation='relu'),\n",
    "    MaxPooling2D((2, 2)),\n",
    "    Conv2D(256, (3, 3), activation='relu'),\n",
    "    MaxPooling2D((2, 2)),\n",
    "    Flatten(),\n",
    "    Dense(256, activation='relu'),\n",
    "    Dropout(0.4),\n",
    "    Dense(1, activation='sigmoid')\n",
    "])\n",
    "\n",
    "model2.compile(optimizer='adam', loss='binary_crossentropy', metrics=['accuracy'])\n"
   ]
  },
  {
   "cell_type": "code",
   "execution_count": 38,
   "id": "9c6f06ce",
   "metadata": {},
   "outputs": [
    {
     "name": "stdout",
     "output_type": "stream",
     "text": [
      "Epoch 1/3\n",
      "830/830 [==============================] - 718s 864ms/step - loss: 0.3264 - accuracy: 0.8657 - val_loss: 0.2854 - val_accuracy: 0.8934\n",
      "Epoch 2/3\n",
      "830/830 [==============================] - 767s 924ms/step - loss: 0.2725 - accuracy: 0.8913 - val_loss: 0.1401 - val_accuracy: 0.9522\n",
      "Epoch 3/3\n",
      "830/830 [==============================] - 778s 938ms/step - loss: 0.1612 - accuracy: 0.9400 - val_loss: 0.1411 - val_accuracy: 0.9352\n"
     ]
    }
   ],
   "source": [
    "# Train model2\n",
    "history2 = model2.fit(train_generator, epochs=3, validation_data=test_generator)"
   ]
  },
  {
   "cell_type": "code",
   "execution_count": 46,
   "id": "22de61da",
   "metadata": {},
   "outputs": [
    {
     "name": "stdout",
     "output_type": "stream",
     "text": [
      "208/208 [==============================] - 46s 219ms/step\n",
      "              precision    recall  f1-score   support\n",
      "\n",
      "    negative       0.89      0.99      0.94      3303\n",
      "    positive       0.99      0.88      0.93      3330\n",
      "\n",
      "    accuracy                           0.94      6633\n",
      "   macro avg       0.94      0.94      0.94      6633\n",
      "weighted avg       0.94      0.94      0.93      6633\n",
      "\n"
     ]
    }
   ],
   "source": [
    "# Predict on the test set\n",
    "test_generator.reset()\n",
    "predictions2 = model2.predict(test_generator)\n",
    "predictions2 = (predictions2 > 0.5).astype(int)\n",
    "# True labels\n",
    "true_labels = test_generator.classes\n",
    "# Classification report\n",
    "report2 = classification_report(true_labels, predictions2, target_names=['negative', 'positive'])\n",
    "print(report2)\n"
   ]
  },
  {
   "cell_type": "code",
   "execution_count": 47,
   "id": "b2f67a34",
   "metadata": {},
   "outputs": [
    {
     "name": "stdout",
     "output_type": "stream",
     "text": [
      "[[3266   37]\n",
      " [ 393 2937]]\n",
      "Sensitivity: 0.881981981981982\n",
      "Specificity: 0.9887980623675446\n",
      "AUROC: 0.9353900221747633\n"
     ]
    }
   ],
   "source": [
    "# Confusion matrix\n",
    "cm2 = confusion_matrix(true_labels, predictions2)\n",
    "print(cm2)\n",
    "\n",
    "# Sensitivity and Specificity\n",
    "tn, fp, fn, tp = cm2.ravel()\n",
    "sensitivity2 = tp / (tp + fn)\n",
    "specificity2 = tn / (tn + fp)\n",
    "print(f'Sensitivity: {sensitivity2}')\n",
    "print(f'Specificity: {specificity2}')\n",
    "# AUROC\n",
    "auc2 = roc_auc_score(true_labels, predictions2)\n",
    "print(f'AUROC: {auc2}')"
   ]
  },
  {
   "cell_type": "code",
   "execution_count": 41,
   "id": "b0e5215b",
   "metadata": {},
   "outputs": [],
   "source": [
    "model3 = Sequential([\n",
    "    Conv2D(32, (3, 3), activation='relu', input_shape=(150, 150, 3)),\n",
    "    MaxPooling2D((2, 2)),\n",
    "    Conv2D(64, (3, 3), activation='relu'),\n",
    "    MaxPooling2D((2, 2)),\n",
    "    Conv2D(128, (3, 3), activation='relu'),\n",
    "    MaxPooling2D((2, 2)),\n",
    "    Flatten(),\n",
    "    Dense(128, activation='relu'),\n",
    "    Dropout(0.5),\n",
    "    Dense(1, activation='sigmoid')\n",
    "])\n",
    "\n",
    "model3.compile(optimizer='adam', loss='binary_crossentropy', metrics=['accuracy'])\n"
   ]
  },
  {
   "cell_type": "code",
   "execution_count": 42,
   "id": "b28e8d7d",
   "metadata": {},
   "outputs": [
    {
     "name": "stdout",
     "output_type": "stream",
     "text": [
      "Epoch 1/3\n",
      "830/830 [==============================] - 613s 738ms/step - loss: 0.2600 - accuracy: 0.8941 - val_loss: 0.1063 - val_accuracy: 0.9682\n",
      "Epoch 2/3\n",
      "830/830 [==============================] - 664s 799ms/step - loss: 0.1326 - accuracy: 0.9532 - val_loss: 0.0932 - val_accuracy: 0.9626\n",
      "Epoch 3/3\n",
      "830/830 [==============================] - 697s 839ms/step - loss: 0.0882 - accuracy: 0.9678 - val_loss: 0.0512 - val_accuracy: 0.9801\n"
     ]
    }
   ],
   "source": [
    "# Train model3\n",
    "history3 = model3.fit(train_generator, epochs=3, validation_data=test_generator)"
   ]
  },
  {
   "cell_type": "code",
   "execution_count": 43,
   "id": "54512f70",
   "metadata": {},
   "outputs": [
    {
     "name": "stdout",
     "output_type": "stream",
     "text": [
      "208/208 [==============================] - 39s 187ms/step\n",
      "              precision    recall  f1-score   support\n",
      "\n",
      "    negative       0.98      0.98      0.98      3303\n",
      "    positive       0.98      0.98      0.98      3330\n",
      "\n",
      "    accuracy                           0.98      6633\n",
      "   macro avg       0.98      0.98      0.98      6633\n",
      "weighted avg       0.98      0.98      0.98      6633\n",
      "\n"
     ]
    }
   ],
   "source": [
    "# Predict on the test set\n",
    "test_generator.reset()\n",
    "predictions3 = model3.predict(test_generator)\n",
    "predictions3 = (predictions3 > 0.5).astype(int)\n",
    "# True labels\n",
    "true_labels = test_generator.classes\n",
    "# Classification report\n",
    "report3 = classification_report(true_labels, predictions3, target_names=['negative', 'positive'])\n",
    "print(report3)"
   ]
  },
  {
   "cell_type": "code",
   "execution_count": 45,
   "id": "c616a4a4",
   "metadata": {},
   "outputs": [
    {
     "name": "stdout",
     "output_type": "stream",
     "text": [
      "[[3250   53]\n",
      " [ 634 2696]]\n",
      "Sensitivity: 0.8096096096096096\n",
      "Specificity: 0.9839539812291855\n",
      "AUROC: 0.9801126739818837\n"
     ]
    }
   ],
   "source": [
    "# Confusion matrix\n",
    "cm3 = confusion_matrix(true_labels, predictions2)\n",
    "print(cm3)\n",
    "\n",
    "# Sensitivity and Specificity\n",
    "tn, fp, fn, tp = cm3.ravel()\n",
    "sensitivity3 = tp / (tp + fn)\n",
    "specificity3 = tn / (tn + fp)\n",
    "print(f'Sensitivity: {sensitivity3}')\n",
    "print(f'Specificity: {specificity3}')\n",
    "# AUROC\n",
    "auc3 = roc_auc_score(true_labels, predictions3)\n",
    "print(f'AUROC: {auc3}')"
   ]
  },
  {
   "cell_type": "code",
   "execution_count": null,
   "id": "099994ea",
   "metadata": {},
   "outputs": [],
   "source": []
  }
 ],
 "metadata": {
  "kernelspec": {
   "display_name": "Python 3 (ipykernel)",
   "language": "python",
   "name": "python3"
  },
  "language_info": {
   "codemirror_mode": {
    "name": "ipython",
    "version": 3
   },
   "file_extension": ".py",
   "mimetype": "text/x-python",
   "name": "python",
   "nbconvert_exporter": "python",
   "pygments_lexer": "ipython3",
   "version": "3.9.7"
  }
 },
 "nbformat": 4,
 "nbformat_minor": 5
}
